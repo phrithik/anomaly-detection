{
  "nbformat": 4,
  "nbformat_minor": 0,
  "metadata": {
    "colab": {
      "provenance": [],
      "gpuType": "T4"
    },
    "kernelspec": {
      "name": "python3",
      "display_name": "Python 3"
    },
    "language_info": {
      "name": "python"
    },
    "accelerator": "GPU"
  },
  "cells": [
    {
      "cell_type": "code",
      "source": [
        "import pandas as pd"
      ],
      "metadata": {
        "id": "oD44XTCwo2Y0"
      },
      "execution_count": 83,
      "outputs": []
    },
    {
      "cell_type": "code",
      "source": [
        "df = pd.read_csv('/content/drive/MyDrive/final_sets.csv')"
      ],
      "metadata": {
        "id": "6uAm6AUAo4z3"
      },
      "execution_count": 92,
      "outputs": []
    },
    {
      "cell_type": "code",
      "source": [
        "df = df.drop(\"time_diff\", axis=1)\n",
        "df = df.drop(\"tcp_flags\", axis=1)\n",
        "df = df.drop(\"protocol\", axis =1)\n",
        "df = df.drop(\"in_bytes\", axis=1)\n",
        "df = df.drop('l4_src_port', axis=1)\n",
        "# df = df.drop(\"in_pkts\", axis=1)"
      ],
      "metadata": {
        "id": "OZWivtjX4Ueh"
      },
      "execution_count": 93,
      "outputs": []
    },
    {
      "cell_type": "code",
      "source": [
        "# train test split\n",
        "from sklearn.model_selection import train_test_split\n",
        "\n",
        "X = df.drop('label', axis=1)\n",
        "\n",
        "y = df['label']\n",
        "\n",
        "X_train, X_test, y_train, y_test = train_test_split(X, y, test_size=0.3, random_state=42)"
      ],
      "metadata": {
        "id": "mH5qyGilpBk2"
      },
      "execution_count": 94,
      "outputs": []
    },
    {
      "cell_type": "code",
      "source": [
        "print(X_train.shape)\n",
        "print(X_test.shape)\n",
        "print(y_train.shape)\n",
        "print(y_test.shape)"
      ],
      "metadata": {
        "colab": {
          "base_uri": "https://localhost:8080/"
        },
        "id": "V6oxSow-pEpd",
        "outputId": "62f0dec5-12f0-49eb-9385-fc20292bf53c"
      },
      "execution_count": 95,
      "outputs": [
        {
          "output_type": "stream",
          "name": "stdout",
          "text": [
            "(589868, 5)\n",
            "(252801, 5)\n",
            "(589868,)\n",
            "(252801,)\n"
          ]
        }
      ]
    },
    {
      "cell_type": "code",
      "source": [
        "print(df.columns)"
      ],
      "metadata": {
        "colab": {
          "base_uri": "https://localhost:8080/"
        },
        "id": "X3KojVHl5Cex",
        "outputId": "23cf3703-8d88-46ac-93db-bbda413023d7"
      },
      "execution_count": 96,
      "outputs": [
        {
          "output_type": "stream",
          "name": "stdout",
          "text": [
            "Index(['in_pkts', 'ipv4_dst_addr', 'ipv4_src_addr', 'l4_dst_port', 'username',\n",
            "       'label'],\n",
            "      dtype='object')\n"
          ]
        }
      ]
    },
    {
      "cell_type": "code",
      "source": [
        "# apply knn model\n",
        "from sklearn.neighbors import KNeighborsClassifier\n",
        "\n",
        "knn = KNeighborsClassifier(n_neighbors=3)\n",
        "\n",
        "knn.fit(X_train, y_train)\n",
        "\n",
        "# model evaluation\n",
        "predictions = knn.predict(X_test)"
      ],
      "metadata": {
        "id": "9ZlkAB3Nu9pQ"
      },
      "execution_count": 97,
      "outputs": []
    },
    {
      "cell_type": "code",
      "source": [
        "# classification report for neural network model\n",
        "from sklearn.metrics import classification_report, confusion_matrix"
      ],
      "metadata": {
        "id": "HwcGGajZvMCL"
      },
      "execution_count": 98,
      "outputs": []
    },
    {
      "cell_type": "code",
      "source": [
        "# classification report for knn model\n",
        "print(confusion_matrix(y_test, predictions))\n",
        "\n",
        "print(classification_report(y_test, predictions))"
      ],
      "metadata": {
        "colab": {
          "base_uri": "https://localhost:8080/"
        },
        "id": "k0l48KKtvAnk",
        "outputId": "66294bea-42d2-42e2-efac-bd8cfcf6e459"
      },
      "execution_count": 99,
      "outputs": [
        {
          "output_type": "stream",
          "name": "stdout",
          "text": [
            "[[ 58193   1469]\n",
            " [   464 192675]]\n",
            "              precision    recall  f1-score   support\n",
            "\n",
            "           0       0.99      0.98      0.98     59662\n",
            "           1       0.99      1.00      1.00    193139\n",
            "\n",
            "    accuracy                           0.99    252801\n",
            "   macro avg       0.99      0.99      0.99    252801\n",
            "weighted avg       0.99      0.99      0.99    252801\n",
            "\n"
          ]
        }
      ]
    },
    {
      "cell_type": "code",
      "source": [
        "# s# save the model to disk\n",
        "import pickle\n",
        "\n",
        "filename = 'knn_best_v3.sav'\n",
        "\n",
        "pickle.dump(knn, open(filename, 'wb'))"
      ],
      "metadata": {
        "id": "uyiUfLMHvPKj"
      },
      "execution_count": 82,
      "outputs": []
    }
  ]
}